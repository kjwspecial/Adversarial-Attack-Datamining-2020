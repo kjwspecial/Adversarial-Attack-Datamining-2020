{
 "cells": [
  {
   "cell_type": "code",
   "execution_count": 1,
   "metadata": {},
   "outputs": [],
   "source": [
    "import numpy as np\n",
    "import cv2\n",
    "import argparse\n",
    "import time\n",
    "import fnmatch\n",
    "import os\n",
    "from tqdm import tqdm\n",
    "import math"
   ]
  },
  {
   "cell_type": "code",
   "execution_count": 2,
   "metadata": {},
   "outputs": [],
   "source": [
    "# [11] 논문을 이용해서 이미지 smoothing함.\n",
    "\n",
    "# Convert point-spread function to optical transfer function\n",
    "def psf2otf(psf, outSize=None):\n",
    "    # Prepare psf for conversion\n",
    "    data = prepare_psf(psf, outSize)\n",
    "\n",
    "    # n-차원 fast Fourier 변환\n",
    "    otf = np.fft.fftn(data)\n",
    "\n",
    "    return np.complex64(otf)\n",
    "\n",
    "def prepare_psf(psf, outSize=None, dtype=None):\n",
    "    if not dtype:\n",
    "        dtype=np.float32\n",
    "    psf = np.float32(psf)\n",
    "\n",
    "    # PSF / OTF shapes 결정\n",
    "    psfSize = np.int32(psf.shape)\n",
    "    if not outSize:\n",
    "        outSize = psfSize\n",
    "    outSize = np.int32(outSize)\n",
    "\n",
    "    # PSF padding(output 사이즈 남는 부분 0)\n",
    "    new_psf = np.zeros(outSize, dtype=dtype)\n",
    "    new_psf[:psfSize[0],:psfSize[1]] = psf[:,:]\n",
    "    psf = new_psf\n",
    "\n",
    "    # PSF 중심이 (0,0)되도록 OTF를 원형으로 이동\n",
    "    shift = -(psfSize // 2)\n",
    "    psf = circshift(psf, shift)\n",
    "\n",
    "    return psf\n",
    "\n",
    "# axis를 기준으로 shift함. 원형을 배열로 이동\n",
    "def circshift(A, shift):\n",
    "    for i in range(shift.size):\n",
    "        A = np.roll(A, shift[i], axis=i)\n",
    "    return A\n",
    "\n",
    "def read_image(root_dir, ext='.png'):\n",
    "    return [os.path.join(dataset_path, file) for file in os.listdir(dataset_path) if file.endswith(ext)]"
   ]
  },
  {
   "cell_type": "code",
   "execution_count": 3,
   "metadata": {},
   "outputs": [],
   "source": [
    "# L0 minimization parameters\n",
    "kappa = 2.0;\n",
    "_lambda = 2e-2;\n",
    "\n",
    "dataset_path = '../Dataset/'"
   ]
  },
  {
   "cell_type": "code",
   "execution_count": 4,
   "metadata": {},
   "outputs": [
    {
     "name": "stderr",
     "output_type": "stream",
     "text": [
      "  7%|▋         | 1/15 [00:00<00:02,  5.86it/s]"
     ]
    },
    {
     "name": "stdout",
     "output_type": "stream",
     "text": [
      "Processing 160 x 160 RGB image\n",
      "Iterations: 22\n",
      "Processing 160 x 160 RGB image\n"
     ]
    },
    {
     "name": "stderr",
     "output_type": "stream",
     "text": [
      " 20%|██        | 3/15 [00:00<00:01,  6.83it/s]"
     ]
    },
    {
     "name": "stdout",
     "output_type": "stream",
     "text": [
      "Iterations: 22\n",
      "Processing 160 x 160 RGB image\n",
      "Iterations: 22\n",
      "Processing 160 x 160 RGB image\n"
     ]
    },
    {
     "name": "stderr",
     "output_type": "stream",
     "text": [
      " 33%|███▎      | 5/15 [00:00<00:01,  7.40it/s]"
     ]
    },
    {
     "name": "stdout",
     "output_type": "stream",
     "text": [
      "Iterations: 22\n",
      "Processing 160 x 160 RGB image\n",
      "Iterations: 22\n",
      "Processing 160 x 160 RGB image\n"
     ]
    },
    {
     "name": "stderr",
     "output_type": "stream",
     "text": [
      " 47%|████▋     | 7/15 [00:00<00:01,  7.72it/s]"
     ]
    },
    {
     "name": "stdout",
     "output_type": "stream",
     "text": [
      "Iterations: 22\n",
      "Processing 160 x 160 RGB image\n",
      "Iterations: 22\n",
      "Processing 160 x 160 RGB image\n"
     ]
    },
    {
     "name": "stderr",
     "output_type": "stream",
     "text": [
      " 60%|██████    | 9/15 [00:01<00:00,  7.88it/s]"
     ]
    },
    {
     "name": "stdout",
     "output_type": "stream",
     "text": [
      "Iterations: 22\n",
      "Processing 160 x 160 RGB image\n",
      "Iterations: 22\n",
      "Processing 160 x 160 RGB image\n"
     ]
    },
    {
     "name": "stderr",
     "output_type": "stream",
     "text": [
      " 73%|███████▎  | 11/15 [00:01<00:00,  7.98it/s]"
     ]
    },
    {
     "name": "stdout",
     "output_type": "stream",
     "text": [
      "Iterations: 22\n",
      "Processing 160 x 160 RGB image\n",
      "Iterations: 22\n",
      "Processing 160 x 160 RGB image\n"
     ]
    },
    {
     "name": "stderr",
     "output_type": "stream",
     "text": [
      " 87%|████████▋ | 13/15 [00:01<00:00,  7.98it/s]"
     ]
    },
    {
     "name": "stdout",
     "output_type": "stream",
     "text": [
      "Iterations: 22\n",
      "Processing 160 x 160 RGB image\n",
      "Iterations: 22\n",
      "Processing 160 x 160 RGB image\n"
     ]
    },
    {
     "name": "stderr",
     "output_type": "stream",
     "text": [
      "100%|██████████| 15/15 [00:01<00:00,  7.84it/s]"
     ]
    },
    {
     "name": "stdout",
     "output_type": "stream",
     "text": [
      "Iterations: 22\n",
      "Processing 160 x 160 RGB image\n",
      "Iterations: 22\n"
     ]
    },
    {
     "name": "stderr",
     "output_type": "stream",
     "text": [
      "\n"
     ]
    }
   ],
   "source": [
    "image_list = read_image(dataset_path, ext='.png')\n",
    "NumImg=len(image_list)\n",
    "\n",
    "smooth_path = '../Smoothing_Imgs/'\n",
    "if not os.path.exists(smooth_path):\n",
    "    os.makedirs(smooth_path)\n",
    "\n",
    "for idx in tqdm(list(range(NumImg))):\n",
    "\n",
    "    img_name = image_list[idx].split('/')[-1] \n",
    "    # Read image I\n",
    "    image = cv2.imread(dataset_path+img_name)\n",
    "\n",
    "    # Validate image format\n",
    "    N, M, D = np.int32(image.shape)\n",
    "    assert D == 3, \"입력은 3-channel RGB image\"\n",
    "    print(f'Processing {M} x {N} RGB image')\n",
    "\n",
    "    S = np.float32(image) / 256\n",
    "\n",
    "    # Compute image OTF\n",
    "    size_2D = [N, M]\n",
    "\n",
    "    fx = np.int32([[1, -1]]) # [1,2]\n",
    "    fy = np.int32([[1], [-1]]) # [2,1]\n",
    "\n",
    "    otfFx = psf2otf(fx, size_2D)\n",
    "    otfFy = psf2otf(fy, size_2D)\n",
    "\n",
    "    # Compute F(I)\n",
    "    FI = np.complex64(np.zeros((N, M, D)))\n",
    "    FI[:,:,0] = np.fft.fft2(S[:,:,0])\n",
    "    FI[:,:,1] = np.fft.fft2(S[:,:,1])\n",
    "    FI[:,:,2] = np.fft.fft2(S[:,:,2])\n",
    "\n",
    "    # Compute MTF\n",
    "    MTF = np.power(np.abs(otfFx), 2) + np.power(np.abs(otfFy), 2)\n",
    "    MTF = np.tile(MTF[:, :, np.newaxis], (1, 1, D))\n",
    "\n",
    "    # Initialize buffers\n",
    "    h = np.float32(np.zeros((N, M, D)))\n",
    "    v = np.float32(np.zeros((N, M, D)))\n",
    "    dxhp = np.float32(np.zeros((N, M, D)))\n",
    "    dyvp = np.float32(np.zeros((N, M, D)))\n",
    "    FS = np.complex64(np.zeros((N, M, D)))\n",
    "\n",
    "    # Iteration settings\n",
    "    beta_max = 1e5;\n",
    "    beta = 2 * _lambda\n",
    "    iteration = 0\n",
    "\n",
    "    # Done initializing  \n",
    "    init_time = time.time()\n",
    "\n",
    "    # Iterate until desired convergence in similarity\n",
    "    while beta < beta_max:\n",
    "\n",
    "        ### Step 1: estimate (h, v) subproblem\n",
    "        # compute dxSp\n",
    "        h[:,0:M-1,:] = np.diff(S, 1, 1)\n",
    "        h[:,M-1:M,:] = S[:,0:1,:] - S[:,M-1:M,:]\n",
    "        # compute dySp\n",
    "        v[0:N-1,:,:] = np.diff(S, 1, 0)\n",
    "        v[N-1:N,:,:] = S[0:1,:,:] - S[N-1:N,:,:]\n",
    "        # compute minimum energy E = dxSp^2 + dySp^2 <= _lambda/beta\n",
    "        t = np.sum(np.power(h, 2) + np.power(v, 2), axis=2) < _lambda / beta\n",
    "        t = np.tile(t[:, :, np.newaxis], (1, 1, 3))\n",
    "\n",
    "        # compute piecewise solution for hp, vp\n",
    "        h[t] = 0\n",
    "        v[t] = 0\n",
    "\n",
    "        ### Step 2: estimate S subproblem\n",
    "\n",
    "        # compute dxhp + dyvp\n",
    "        dxhp[:,0:1,:] = h[:,M-1:M,:] - h[:,0:1,:]\n",
    "        dxhp[:,1:M,:] = -(np.diff(h, 1, 1))\n",
    "        dyvp[0:1,:,:] = v[N-1:N,:,:] - v[0:1,:,:]\n",
    "        dyvp[1:N,:,:] = -(np.diff(v, 1, 0))\n",
    "        normin = dxhp + dyvp\n",
    "\n",
    "        FS[:,:,0] = np.fft.fft2(normin[:,:,0])\n",
    "        FS[:,:,1] = np.fft.fft2(normin[:,:,1])\n",
    "        FS[:,:,2] = np.fft.fft2(normin[:,:,2])\n",
    "            \n",
    "        # solve for S + 1 in Fourier domain\n",
    "        denorm = 1 + beta * MTF;\n",
    "        FS[:,:,:] = (FI + beta * FS) / denorm\n",
    "        # inverse FFT to compute S + 1\n",
    "        S[:,:,0] = np.float32((np.fft.ifft2(FS[:,:,0])).real)\n",
    "        S[:,:,1] = np.float32((np.fft.ifft2(FS[:,:,1])).real)\n",
    "        S[:,:,2] = np.float32((np.fft.ifft2(FS[:,:,2])).real)\n",
    "\n",
    "        # update beta for next iteration\n",
    "        beta *= kappa\n",
    "        iteration += 1\n",
    "\n",
    "    # Rescale image\n",
    "    S = S * 256\n",
    "\n",
    "    print(\"Iterations: %d\" % (iteration))\n",
    "    cv2.imwrite(smooth_path+'{}.png'.format(img_name.split('.')[0]), S)"
   ]
  }
 ],
 "metadata": {
  "kernelspec": {
   "display_name": "Python 3",
   "language": "python",
   "name": "python3"
  },
  "language_info": {
   "codemirror_mode": {
    "name": "ipython",
    "version": 3
   },
   "file_extension": ".py",
   "mimetype": "text/x-python",
   "name": "python",
   "nbconvert_exporter": "python",
   "pygments_lexer": "ipython3",
   "version": "3.7.4"
  }
 },
 "nbformat": 4,
 "nbformat_minor": 4
}
